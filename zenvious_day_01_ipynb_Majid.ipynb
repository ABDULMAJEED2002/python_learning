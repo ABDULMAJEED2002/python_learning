{
  "nbformat": 4,
  "nbformat_minor": 0,
  "metadata": {
    "colab": {
      "provenance": [],
      "include_colab_link": true
    },
    "kernelspec": {
      "name": "python3",
      "display_name": "Python 3"
    },
    "language_info": {
      "name": "python"
    }
  },
  "cells": [
    {
      "cell_type": "markdown",
      "metadata": {
        "id": "view-in-github",
        "colab_type": "text"
      },
      "source": [
        "<a href=\"https://colab.research.google.com/github/ABDULMAJEED2002/python_learning/blob/main/zenvious_day_01_ipynb_Majid.ipynb\" target=\"_parent\"><img src=\"https://colab.research.google.com/assets/colab-badge.svg\" alt=\"Open In Colab\"/></a>"
      ]
    },
    {
      "cell_type": "code",
      "execution_count": null,
      "metadata": {
        "colab": {
          "base_uri": "https://localhost:8080/",
          "height": 110
        },
        "id": "eRolH47BvHiR",
        "outputId": "dcb1e0e4-e49d-4e71-e882-dde0c81ae436"
      },
      "outputs": [
        {
          "output_type": "error",
          "ename": "SyntaxError",
          "evalue": "invalid syntax (<ipython-input-1-6b139bcb0283>, line 1)",
          "traceback": [
            "\u001b[0;36m  File \u001b[0;32m\"<ipython-input-1-6b139bcb0283>\"\u001b[0;36m, line \u001b[0;32m1\u001b[0m\n\u001b[0;31m    ide means\u001b[0m\n\u001b[0m        ^\u001b[0m\n\u001b[0;31mSyntaxError\u001b[0m\u001b[0;31m:\u001b[0m invalid syntax\n"
          ]
        }
      ],
      "source": [
        "#ide means\n",
        "hastag is use to explain about phyton\n",
        "#what is phyton ?\n",
        "\"\"\"General purpose prog langauage.[mainly used for the calulations purpose.]\n",
        " 2.high level programing lang\n",
        " 3.object oriented programing language.\n",
        " 4.dynamically typed programinhg langauge.\n",
        " 5.interpted programing language.\n",
        "\n"
      ]
    },
    {
      "cell_type": "code",
      "source": [],
      "metadata": {
        "id": "sXwjJp3w3_QC"
      },
      "execution_count": null,
      "outputs": []
    },
    {
      "cell_type": "code",
      "source": [
        "#IDE INTERGATED DEVELOPMENT ENVIRONMENT\n",
        "# how can you define an ide?\n",
        "#code compilier, code exceuter , interpretor"
      ],
      "metadata": {
        "id": "8F2n8CC83fld"
      },
      "execution_count": null,
      "outputs": []
    },
    {
      "cell_type": "code",
      "source": [
        "#print \"hello world \" by using python prog lang?\n",
        "print(\"hello world\")"
      ],
      "metadata": {
        "id": "_JtFuyu24BYm",
        "colab": {
          "base_uri": "https://localhost:8080/"
        },
        "outputId": "8dcd7e75-6722-405d-ad64-114cb2aec2ed"
      },
      "execution_count": null,
      "outputs": [
        {
          "output_type": "stream",
          "name": "stdout",
          "text": [
            "hello world\n"
          ]
        }
      ]
    },
    {
      "cell_type": "code",
      "source": [],
      "metadata": {
        "id": "cWClyBnm3fXC"
      },
      "execution_count": null,
      "outputs": []
    },
    {
      "cell_type": "code",
      "source": [
        "#what is commenting and why it is important ?\n",
        "# for the better underrtsanding of the code we are encourging comments\\\n",
        "# single line comment\n",
        "\"\"\"multiline,\n",
        "   comment \"\"\"\n",
        "''' hi\n",
        "   i am leraning comments '''\n"
      ],
      "metadata": {
        "colab": {
          "base_uri": "https://localhost:8080/",
          "height": 36
        },
        "id": "eWfAru2l5b80",
        "outputId": "a65fefb7-a979-4b27-deda-299bab90cdfe"
      },
      "execution_count": null,
      "outputs": [
        {
          "output_type": "execute_result",
          "data": {
            "text/plain": [
              "' hi\\n   i am leraning comments '"
            ],
            "application/vnd.google.colaboratory.intrinsic+json": {
              "type": "string"
            }
          },
          "metadata": {},
          "execution_count": 6
        }
      ]
    },
    {
      "cell_type": "code",
      "source": [
        "# there are 3 types\n",
        "# integers ....int .. a whole number without decimal point either postive or negative is known as integer\n",
        "print(10)\n",
        "# find the data type or class of above intigers  . type is use to find the data type\n",
        "print(type(10))\n",
        "\n"
      ],
      "metadata": {
        "colab": {
          "base_uri": "https://localhost:8080/"
        },
        "id": "S6_FjZ0F6xgV",
        "outputId": "a859def2-5aa5-45ae-c213-c1fe806bfc5c"
      },
      "execution_count": null,
      "outputs": [
        {
          "output_type": "stream",
          "name": "stdout",
          "text": [
            "10\n",
            "<class 'int'>\n"
          ]
        }
      ]
    },
    {
      "cell_type": "code",
      "source": [
        "#float a whole number with decimal points either postive or negative\n",
        "print(10.5)\n",
        "print(type(10.5))\n",
        "#print the data type for given numbers\n",
        "print(type(10.0))\n",
        "print(type(2.1))\n",
        "print(type(3.5))\n",
        "print(type(-6.0))\n",
        "print(type(2))"
      ],
      "metadata": {
        "colab": {
          "base_uri": "https://localhost:8080/"
        },
        "id": "D8OEn6C68yZa",
        "outputId": "c59466f4-10db-478e-8ec6-208401d49e38"
      },
      "execution_count": null,
      "outputs": [
        {
          "output_type": "stream",
          "name": "stdout",
          "text": [
            "10.5\n",
            "<class 'float'>\n",
            "<class 'float'>\n",
            "<class 'float'>\n",
            "<class 'float'>\n",
            "<class 'float'>\n",
            "<class 'int'>\n"
          ]
        }
      ]
    },
    {
      "cell_type": "code",
      "source": [
        "# COMPLEX NUMBER : a real number with its imiginary part is known as complex numbers\n",
        "#founder of phyton\n",
        "print(-10 + 5j)\n",
        "print(type(-10+ 5j))\n",
        "#j is known as \"iota\"...root (-1)"
      ],
      "metadata": {
        "colab": {
          "base_uri": "https://localhost:8080/"
        },
        "id": "IDbofrME-sN5",
        "outputId": "7d03cd3c-b70d-4d1b-d0b8-c13fbf999983"
      },
      "execution_count": null,
      "outputs": [
        {
          "output_type": "stream",
          "name": "stdout",
          "text": [
            "(-10+5j)\n",
            "<class 'complex'>\n"
          ]
        }
      ]
    },
    {
      "cell_type": "code",
      "source": [
        "#Arthamatic operators"
      ],
      "metadata": {
        "id": "4mqxamWVBM4u"
      },
      "execution_count": null,
      "outputs": []
    },
    {
      "cell_type": "code",
      "source": [
        "#there are 7 seven arthamtic operators\n",
        "#addition..\n",
        "print(10+5)\n",
        "#subtraction\n",
        "print(10-5)\n",
        "#multiplication..\n",
        "print(10*5)\n",
        "#divison..\n",
        "print(10/5)"
      ],
      "metadata": {
        "colab": {
          "base_uri": "https://localhost:8080/"
        },
        "id": "BON1lBNN-Sn0",
        "outputId": "9d56c7de-1e5b-4f39-8f80-e30ced69e99f"
      },
      "execution_count": null,
      "outputs": [
        {
          "output_type": "stream",
          "name": "stdout",
          "text": [
            "15\n",
            "5\n",
            "50\n",
            "2.0\n"
          ]
        }
      ]
    },
    {
      "cell_type": "code",
      "source": [
        "#what is string?\n",
        "#string collection multiple characters written isnide the quotes\n",
        "a = \"hello zenvius#\"\n",
        "print(a)\n",
        "print(type(a))"
      ],
      "metadata": {
        "colab": {
          "base_uri": "https://localhost:8080/"
        },
        "id": "SslWrXbsIeap",
        "outputId": "1e2cb7c3-192d-40a8-dfbe-57e107c89814"
      },
      "execution_count": null,
      "outputs": [
        {
          "output_type": "stream",
          "name": "stdout",
          "text": [
            "hello zenvius#\n",
            "<class 'str'>\n"
          ]
        }
      ]
    },
    {
      "cell_type": "code",
      "source": [
        "#modules reminder is called as modlues\n",
        "print(10%5)\n",
        "print(10%3)\n",
        "print(type(10%3))\n",
        "#exponential.....** to the power off\n",
        "print(10**5)\n",
        "print(type(10**5))"
      ],
      "metadata": {
        "colab": {
          "base_uri": "https://localhost:8080/"
        },
        "id": "0SosDROxCGbM",
        "outputId": "f4fc3b96-8a76-49c4-af67-3e596c70559c"
      },
      "execution_count": null,
      "outputs": [
        {
          "output_type": "stream",
          "name": "stdout",
          "text": [
            "0\n",
            "1\n",
            "<class 'int'>\n",
            "100000\n",
            "<class 'int'>\n"
          ]
        }
      ]
    },
    {
      "cell_type": "code",
      "source": [
        "#why the default data type for division is float?\n",
        "#\"\"\"when your doing the division sometime if you want exact co-rfficient you may get decimal values instead of denoting the data type by default \"gudeo van rowwum\" mention it as float\"\"\"\n",
        "#7. floor division : it will ignores the value after decimal point...//\n",
        "print(10 / 3)\n",
        "print(10//3)\n",
        "print(type(10//3))"
      ],
      "metadata": {
        "colab": {
          "base_uri": "https://localhost:8080/"
        },
        "id": "u5aTc8C0EuUR",
        "outputId": "9e840a64-c385-4298-b079-7384bade0e5b"
      },
      "execution_count": null,
      "outputs": [
        {
          "output_type": "stream",
          "name": "stdout",
          "text": [
            "3.3333333333333335\n",
            "3\n",
            "<class 'int'>\n"
          ]
        }
      ]
    },
    {
      "cell_type": "code",
      "source": [
        "Celling value it will count the nearest value ex like 2.75= 3\n"
      ],
      "metadata": {
        "id": "oRmZTFHb8j3n"
      },
      "execution_count": null,
      "outputs": []
    },
    {
      "cell_type": "code",
      "source": [
        "#ROUND()\n",
        "print(2.5326)\n",
        "#print the specific decimal values?\n",
        "print(round(2.5326,2))\n"
      ],
      "metadata": {
        "colab": {
          "base_uri": "https://localhost:8080/"
        },
        "id": "xtdhqnOA94uU",
        "outputId": "9d3a6c09-17c0-4852-c19f-474b2e8e6c22"
      },
      "execution_count": null,
      "outputs": [
        {
          "output_type": "stream",
          "name": "stdout",
          "text": [
            "2.5326\n",
            "2.53\n"
          ]
        }
      ]
    },
    {
      "cell_type": "code",
      "source": [
        "what is floor value?\n",
        "what is ceiling value?"
      ],
      "metadata": {
        "id": "j97h6JiC-6_b"
      },
      "execution_count": null,
      "outputs": []
    },
    {
      "cell_type": "code",
      "source": [
        "#VARIABLES\n",
        "#how can u define the var?\n",
        "#\"\"\"variables are the containers where you can store your valuable inf and reuse it\"\"\"\n",
        "#how can u access the var?\n",
        "#i am using the print statment along with var name to access the variables\n",
        "#what is purpose of variables?\n",
        "#is to reduce the memory size.\n",
        "#how to create the variables?\n",
        "x = 40\n",
        "son_age = x/2\n",
        "print(son_age)\n",
        "x=10\n",
        "y=5\n",
        "print(x+y)\n",
        "print(x-y)\n",
        "print(x*y)\n",
        "print(x/y)\n",
        "print(x%y)\n",
        "print(x**y)\n",
        "print(x//y)\n"
      ],
      "metadata": {
        "colab": {
          "base_uri": "https://localhost:8080/"
        },
        "id": "U7DboLDJ_TPU",
        "outputId": "474e6acd-f7fd-4fbe-85fa-09ea558cf85a"
      },
      "execution_count": null,
      "outputs": [
        {
          "output_type": "stream",
          "name": "stdout",
          "text": [
            "15\n",
            "5\n",
            "50\n",
            "2.0\n",
            "0\n",
            "100000\n",
            "2\n"
          ]
        }
      ]
    },
    {
      "cell_type": "code",
      "source": [
        "#rules we need follow to create variables?\n",
        "\"\"\"1. always start creating the varaiables with alphabets\n",
        " # 2 . dont start creating the variables with numbers\n",
        "   3. \"\"\"#if you follow rule1 and 2 the you can start creatng variables with alphabets in between you can include variables with alphabets inbetween you include number\"\"\n",
        "   5.dont use special characters.--->@,#,$\n",
        "   6.u can strart creating varaiables with(_) special characters\n",
        "   7. always prefer varaiables in lowercase\n"
      ],
      "metadata": {
        "colab": {
          "base_uri": "https://localhost:8080/",
          "height": 110
        },
        "id": "wNj4f-01_R0W",
        "outputId": "56a4ecab-f280-4220-bec8-d4f24e30d0cd"
      },
      "execution_count": null,
      "outputs": [
        {
          "output_type": "error",
          "ename": "IndentationError",
          "evalue": "unexpected indent (<ipython-input-26-160254f432a5>, line 6)",
          "traceback": [
            "\u001b[0;36m  File \u001b[0;32m\"<ipython-input-26-160254f432a5>\"\u001b[0;36m, line \u001b[0;32m6\u001b[0m\n\u001b[0;31m    5. you should not give spaces in between variables\"\"\"\u001b[0m\n\u001b[0m    ^\u001b[0m\n\u001b[0;31mIndentationError\u001b[0m\u001b[0;31m:\u001b[0m unexpected indent\n"
          ]
        }
      ]
    },
    {
      "cell_type": "code",
      "source": [
        "#python is a case sensitive language?\n",
        "x = \"hello world\"\n",
        "print(x)"
      ],
      "metadata": {
        "colab": {
          "base_uri": "https://localhost:8080/"
        },
        "id": "csT1Ra0gWNhB",
        "outputId": "64de54b9-0445-45c1-8cf0-21de76313bbc"
      },
      "execution_count": null,
      "outputs": [
        {
          "output_type": "stream",
          "name": "stdout",
          "text": [
            "hello world\n"
          ]
        }
      ]
    },
    {
      "cell_type": "code",
      "source": [
        "# assign a multiple values to multiple var and print in seprate line?\n",
        "x,y,z = 5,10,15\n",
        "#print(x)\n",
        "#print(y)\n",
        "#print(z)\n",
        "#use sep=\"/n\"\n",
        "print(x,y,z,sep='\\n')#\"\\--->represents nextline (backword slash\"n\")\n"
      ],
      "metadata": {
        "colab": {
          "base_uri": "https://localhost:8080/"
        },
        "id": "atQh98XRJWSS",
        "outputId": "adb00ecf-964e-43a2-c786-afbdcabb5a80"
      },
      "execution_count": null,
      "outputs": [
        {
          "output_type": "stream",
          "name": "stdout",
          "text": [
            "5\n",
            "10\n",
            "15\n"
          ]
        }
      ]
    },
    {
      "cell_type": "code",
      "source": [
        "#assign same value to the multiple variables and print in seprate line ?\n",
        "a=b=c=5\n",
        "print(a,b,c,sep=\"\\n\")"
      ],
      "metadata": {
        "colab": {
          "base_uri": "https://localhost:8080/"
        },
        "id": "HL3vsneRLWZb",
        "outputId": "952765ac-82ea-472c-ab5a-2b39db5ad29f"
      },
      "execution_count": null,
      "outputs": [
        {
          "output_type": "stream",
          "name": "stdout",
          "text": [
            "5\n",
            "5\n",
            "5\n"
          ]
        }
      ]
    },
    {
      "cell_type": "code",
      "source": [
        "#what is input ()?\n",
        "#it intakes the user information/data\n",
        "#how can i access the input()?\n",
        "#how can we create input()\n",
        "#we are using input funtion along with a varaiable name to create input()\n",
        "#where we have to use this inputs()?\n",
        "#when use is multiply information /data/value to the same varaiables then we have to use input().\n",
        "#why we are using ()? o(?) what is the purpose of using te input()?\n",
        "#to maintain the memory\n",
        "x=input(\"enter the number : \")\n",
        "print(x)\n",
        "print(type(x))\n",
        "#the default data type for input is string.\n",
        "#why default data type for input () is string?\n",
        "#'''user may give different types of information/data/value the inputfuntion has built insuch a way so it can take any kind of information so thats's  why default data type is string.'''\n",
        "\n"
      ],
      "metadata": {
        "colab": {
          "base_uri": "https://localhost:8080/"
        },
        "id": "jATgHiA8MBM4",
        "outputId": "85a2b7c8-00ee-4c23-e84e-0ae8ea339418"
      },
      "execution_count": null,
      "outputs": [
        {
          "output_type": "stream",
          "name": "stdout",
          "text": [
            "enter the number : 2,3,4,5\n",
            "2,3,4,5\n",
            "<class 'str'>\n"
          ]
        }
      ]
    },
    {
      "cell_type": "code",
      "source": [],
      "metadata": {
        "id": "R3MnEUuZbJen"
      },
      "execution_count": null,
      "outputs": []
    },
    {
      "cell_type": "code",
      "source": [
        "#what is the default data type for input()?\n",
        "#string\n",
        "#define the input() data type when your working with numericals values\n",
        "x= int(input(\"enter the number:\"))\n",
        "y= int(input(\"enter the number:\"))\n",
        "#do all the arthamtic operations\n"
      ],
      "metadata": {
        "id": "0w1dPXvdQ0Xp"
      },
      "execution_count": null,
      "outputs": []
    },
    {
      "cell_type": "code",
      "source": [
        "#what is the default"
      ],
      "metadata": {
        "id": "a6MBB2oyPD4I"
      },
      "execution_count": null,
      "outputs": []
    },
    {
      "cell_type": "code",
      "source": [
        "_TYPES OF ERRORS\n",
        "#there are 2 two types of errors\n",
        "#1.syntax error\n",
        "#2.logical error"
      ],
      "metadata": {
        "id": "lAuePfI-H__o"
      },
      "execution_count": null,
      "outputs": []
    },
    {
      "cell_type": "code",
      "source": [
        "#what is syntax errors?\n",
        "#breaking the rules of programming lang is known as syntax error\n",
        "#print(x ** y)"
      ],
      "metadata": {
        "id": "lXNJjo-dDrHz"
      },
      "execution_count": null,
      "outputs": []
    },
    {
      "cell_type": "code",
      "source": [
        "#what is logical error?\n",
        "#except syntax all the errors comes under logical error\n",
        "#ex; Name error, indendation error"
      ],
      "metadata": {
        "id": "MTgdcs9wE63X"
      },
      "execution_count": null,
      "outputs": []
    },
    {
      "cell_type": "code",
      "source": [
        "#what is diff b/w dynamically typed and statistically typed?\n",
        "#dynamically typed programming language means your not defining the data type for the varaiables\n",
        "#ex: python\n",
        "#statically typed programming language means we need top define the data type for the varaiables."
      ],
      "metadata": {
        "id": "pklOuiSdTKTh"
      },
      "execution_count": null,
      "outputs": []
    },
    {
      "cell_type": "code",
      "source": [
        "#note: when your using input() for numerical data, define the data type for input()"
      ],
      "metadata": {
        "id": "722eeP6-UeO0"
      },
      "execution_count": null,
      "outputs": []
    },
    {
      "cell_type": "code",
      "source": [
        " STRINGS\n",
        "# what is string?\n",
        "#string collection multiple characters written inside the quotes\n"
      ],
      "metadata": {
        "colab": {
          "base_uri": "https://localhost:8080/",
          "height": 165
        },
        "id": "qGcIQozFVA8v",
        "outputId": "f27980a0-a2e7-4004-d930-2ff926ed2c68"
      },
      "execution_count": null,
      "outputs": [
        {
          "output_type": "error",
          "ename": "NameError",
          "evalue": "name 'STRINGS' is not defined",
          "traceback": [
            "\u001b[0;31m---------------------------------------------------------------------------\u001b[0m",
            "\u001b[0;31mNameError\u001b[0m                                 Traceback (most recent call last)",
            "\u001b[0;32m<ipython-input-32-6eeb7d521398>\u001b[0m in \u001b[0;36m<cell line: 1>\u001b[0;34m()\u001b[0m\n\u001b[0;32m----> 1\u001b[0;31m \u001b[0mSTRINGS\u001b[0m\u001b[0;34m\u001b[0m\u001b[0;34m\u001b[0m\u001b[0m\n\u001b[0m\u001b[1;32m      2\u001b[0m \u001b[0;34m\u001b[0m\u001b[0m\n",
            "\u001b[0;31mNameError\u001b[0m: name 'STRINGS' is not defined"
          ]
        }
      ]
    },
    {
      "cell_type": "code",
      "source": [
        "a = \"\"\"hi,\n",
        "iam  learning python this is multiline string\"\"\"\n",
        "print(len(a))"
      ],
      "metadata": {
        "colab": {
          "base_uri": "https://localhost:8080/"
        },
        "id": "T2cgQUDDJkOD",
        "outputId": "361f0772-6e2c-42bc-ecea-38cca7ae35e6"
      },
      "execution_count": null,
      "outputs": [
        {
          "output_type": "stream",
          "name": "stdout",
          "text": [
            "49\n"
          ]
        }
      ]
    },
    {
      "cell_type": "code",
      "source": [
        "#\"\"\" string is a collection of multiple characters\n",
        "written inside the quotes, Each characters can be accessiable \"\"\"..(\"\")('')\n",
        "#how can you denote or write a multiline strings?\n",
        "#print(\"\"\" hi\n",
        "   iam using python multiline to strings\n",
        "   this is my 1st execution \"\"\")"
      ],
      "metadata": {
        "id": "Em7xWTOuKf0T",
        "colab": {
          "base_uri": "https://localhost:8080/",
          "height": 106
        },
        "outputId": "b9e4f6bf-b895-477b-ed65-028e5c973adb"
      },
      "execution_count": null,
      "outputs": [
        {
          "output_type": "error",
          "ename": "SyntaxError",
          "evalue": "invalid decimal literal (<ipython-input-3-29c802bb3f29>, line 6)",
          "traceback": [
            "\u001b[0;36m  File \u001b[0;32m\"<ipython-input-3-29c802bb3f29>\"\u001b[0;36m, line \u001b[0;32m6\u001b[0m\n\u001b[0;31m    this is my 1st execution \"\"\")\u001b[0m\n\u001b[0m               ^\u001b[0m\n\u001b[0;31mSyntaxError\u001b[0m\u001b[0;31m:\u001b[0m invalid decimal literal\n"
          ]
        }
      ]
    },
    {
      "cell_type": "code",
      "source": [
        "#how can we access the characters of a string ?\n",
        "#we are using indexing and slicing operators to access the specific characters in a string\n",
        "#we can access the characters of a string with the help of \"indexing\"\n",
        "#what   is indexing?\n",
        "#it is the positional number of each characters in a string.\n",
        "#indexing can be starts from zero onwords\n",
        "#along wuth it we have to use the slicing operators--[]---> it is use to break the string. also used to retrive substring from the main string.\n",
        "#waht is substring?\n",
        "# is nothing but a part of main string\n",
        "x = \"hello world!\"\n",
        "#how to find how many indexs and how to find length of a string?\n",
        "#to find the length of string we are using len funtions --> len()\n",
        "#length can be start from 1\n",
        "print(len(x))\n",
        "#id you want to find the total index substract length is -1\n",
        "\n",
        "s = \"hello world\"\n",
        "#[start]\n",
        "#print only \"h\" from above string\n",
        "print(s[0])\n",
        "#print hello from hello wolrd?\n",
        "print(s[0])\n",
        "print(s[0:5])\n",
        "\n"
      ],
      "metadata": {
        "colab": {
          "base_uri": "https://localhost:8080/"
        },
        "id": "m0QAumPfMkOr",
        "outputId": "41154b73-6b3f-4771-8423-5d27b4223ab2"
      },
      "execution_count": null,
      "outputs": [
        {
          "output_type": "stream",
          "name": "stdout",
          "text": [
            "h\n",
            "h\n",
            "hello\n"
          ]
        }
      ]
    },
    {
      "cell_type": "code",
      "source": [
        "print(s[6])"
      ],
      "metadata": {
        "colab": {
          "base_uri": "https://localhost:8080/"
        },
        "id": "ryYSNsgQQ6R8",
        "outputId": "09e3e673-dc1c-43f4-e210-7db89be7a6b1"
      },
      "execution_count": null,
      "outputs": [
        {
          "output_type": "stream",
          "name": "stdout",
          "text": [
            "w\n"
          ]
        }
      ]
    },
    {
      "cell_type": "code",
      "source": [
        "print([8])"
      ],
      "metadata": {
        "colab": {
          "base_uri": "https://localhost:8080/"
        },
        "id": "C315JMIJRGB-",
        "outputId": "023958dc-181b-4c7d-cd41-79923eacce0c"
      },
      "execution_count": null,
      "outputs": [
        {
          "output_type": "stream",
          "name": "stdout",
          "text": [
            "[8]\n"
          ]
        }
      ]
    },
    {
      "cell_type": "code",
      "source": [
        "print(s[9])"
      ],
      "metadata": {
        "colab": {
          "base_uri": "https://localhost:8080/"
        },
        "id": "mZIpsoYWRIuM",
        "outputId": "365eef71-ece8-466c-bf90-0b275937dca4"
      },
      "execution_count": null,
      "outputs": [
        {
          "output_type": "stream",
          "name": "stdout",
          "text": [
            "l\n"
          ]
        }
      ]
    },
    {
      "cell_type": "code",
      "source": [
        "print(s[10])"
      ],
      "metadata": {
        "colab": {
          "base_uri": "https://localhost:8080/"
        },
        "id": "xRejSmUiROk-",
        "outputId": "27f56a09-83cc-4f95-ed52-9d03ab3d5997"
      },
      "execution_count": null,
      "outputs": [
        {
          "output_type": "stream",
          "name": "stdout",
          "text": [
            "d\n"
          ]
        }
      ]
    },
    {
      "cell_type": "code",
      "source": [
        "#note: if you want to display particular end charcaters then please guve the end value as \"n+1\"\n",
        "#print the length of a string?\n",
        "a = \"hello world!\"\n",
        "print(len(a))"
      ],
      "metadata": {
        "colab": {
          "base_uri": "https://localhost:8080/"
        },
        "id": "JwQg4zQ_RcRt",
        "outputId": "1fb1a164-3a76-4851-a967-4e74eb28d3f1"
      },
      "execution_count": null,
      "outputs": [
        {
          "output_type": "stream",
          "name": "stdout",
          "text": [
            "12\n"
          ]
        }
      ]
    },
    {
      "cell_type": "code",
      "source": [
        "print(x[6:11])"
      ],
      "metadata": {
        "colab": {
          "base_uri": "https://localhost:8080/"
        },
        "id": "izSkTrRul6hx",
        "outputId": "c0dacd96-4f7c-4aa2-9940-2a0d43d21aa8"
      },
      "execution_count": null,
      "outputs": [
        {
          "output_type": "stream",
          "name": "stdout",
          "text": [
            "world\n"
          ]
        }
      ]
    },
    {
      "cell_type": "code",
      "source": [
        "a = \"you must be the change you wish to see in the world\"\n",
        "print(len(a)) # length will start from one\n",
        "print(a[46])"
      ],
      "metadata": {
        "colab": {
          "base_uri": "https://localhost:8080/"
        },
        "id": "dbZ0idm1TR7r",
        "outputId": "efbf7033-bcc7-4517-fa95-da4145367b9c"
      },
      "execution_count": null,
      "outputs": [
        {
          "output_type": "stream",
          "name": "stdout",
          "text": [
            "51\n",
            "w\n"
          ]
        }
      ]
    },
    {
      "cell_type": "code",
      "source": [
        "#[start:end:step]\n",
        "a = \"hello world!\"\n",
        "#print even position characters in given strings?\n",
        "print(a[0:12:2])\n",
        "print(a[0:11:1])\n",
        "print(a[0:12:3])\n",
        "print(a[1::2])"
      ],
      "metadata": {
        "colab": {
          "base_uri": "https://localhost:8080/"
        },
        "id": "9XsiyLyPUcy5",
        "outputId": "3907daf8-8f2e-459f-efcb-92c51803f52a"
      },
      "execution_count": null,
      "outputs": [
        {
          "output_type": "stream",
          "name": "stdout",
          "text": [
            "hlowrd\n",
            "hello world\n",
            "hlwl\n",
            "el ol!\n"
          ]
        }
      ]
    },
    {
      "cell_type": "code",
      "source": [
        "print(a[:]) #default it takes start postion and end position\n",
        "print(a[::])#default it takes start postion and end position and default step is 1\n",
        "#print odd position caharcters\n",
        "print(a[1::2])\n",
        "last character of the string"
      ],
      "metadata": {
        "colab": {
          "base_uri": "https://localhost:8080/",
          "height": 110
        },
        "id": "WZEKxu4DWwPA",
        "outputId": "fa8731b2-105a-44b5-b54e-46fe61e25d26"
      },
      "execution_count": null,
      "outputs": [
        {
          "output_type": "error",
          "ename": "SyntaxError",
          "evalue": "invalid syntax (<ipython-input-34-e90f384930dd>, line 5)",
          "traceback": [
            "\u001b[0;36m  File \u001b[0;32m\"<ipython-input-34-e90f384930dd>\"\u001b[0;36m, line \u001b[0;32m5\u001b[0m\n\u001b[0;31m    last character of the string\u001b[0m\n\u001b[0m         ^\u001b[0m\n\u001b[0;31mSyntaxError\u001b[0m\u001b[0;31m:\u001b[0m invalid syntax\n"
          ]
        }
      ]
    },
    {
      "cell_type": "code",
      "source": [],
      "metadata": {
        "id": "CQhdr1gGxzKo"
      },
      "execution_count": null,
      "outputs": []
    },
    {
      "cell_type": "code",
      "source": [
        "#what is defalt indexing?\n",
        "#\"\"\"during slicing opertions if you wont specify the index postional numbers the python can take o as the start psotion numbe and length measures as the end psostion numbers\"\"\"\n",
        "print(a[1::2]) #--> odd postion char\n",
        "print(a[::1]) #--> overall strings\n",
        "print(a[::2]) # --> even postions\n"
      ],
      "metadata": {
        "id": "Yx4nxD5AxN7q"
      },
      "execution_count": null,
      "outputs": []
    },
    {
      "cell_type": "code",
      "source": [
        "NEGATIVE INDEXING\n",
        "#whar is negative indexing?\n",
        "#indexing the psoition characters from the right to left (reverse postion) by using -ve number\n",
        "#-ve indexing can be starts with -1\n",
        "#by using -ve indexing we acan access the characters in revrese directions.\n",
        "s = \"hello world \"\n",
        "#[start]\n",
        "#print the w by using -ve inexing?\n",
        "print(s[-6])\n",
        "#print range of characters in -ve indexing?\n",
        "#world\n",
        "print(a[-6:-1])\n"
      ],
      "metadata": {
        "id": "-_1dtQyRylEC"
      },
      "execution_count": null,
      "outputs": []
    },
    {
      "cell_type": "code",
      "source": [],
      "metadata": {
        "id": "U59pcDVo0bjo"
      },
      "execution_count": null,
      "outputs": []
    },
    {
      "cell_type": "code",
      "source": [],
      "metadata": {
        "id": "fVDvirzZ0bUY"
      },
      "execution_count": null,
      "outputs": []
    },
    {
      "cell_type": "markdown",
      "source": [],
      "metadata": {
        "id": "oRRUI0yHyk3B"
      }
    },
    {
      "cell_type": "code",
      "source": [
        "#print last characters?\n",
        "a = \"hello world!\"\n",
        "#if you want to print last characters use -ve indexing?\n",
        "#what is negative indexing?\n",
        "#accessing the characters of a string in reverse directions\n",
        "#the neagtive indexing satrts from \"-1\"\n",
        "print(a[-1:-10:-1])\n"
      ],
      "metadata": {
        "colab": {
          "base_uri": "https://localhost:8080/"
        },
        "id": "hPFr0HRqXWmv",
        "outputId": "0f5d4781-d2e4-4821-9bb7-0c3ea02e0f7f"
      },
      "execution_count": null,
      "outputs": [
        {
          "output_type": "stream",
          "name": "stdout",
          "text": [
            "!dlrow ol\n"
          ]
        }
      ]
    },
    {
      "cell_type": "code",
      "source": [
        "a = \"helllo world!\"\n",
        "#reverse the given string?\n",
        "print(a[::-1])"
      ],
      "metadata": {
        "colab": {
          "base_uri": "https://localhost:8080/"
        },
        "id": "1ZEXqX6mZhyK",
        "outputId": "0d56e699-3d87-4277-b378-35d449163fb7"
      },
      "execution_count": null,
      "outputs": [
        {
          "output_type": "stream",
          "name": "stdout",
          "text": [
            "!dlrow ollleh\n"
          ]
        }
      ]
    },
    {
      "cell_type": "code",
      "source": [
        "#check weather tyhe string is palindrome or not?\n",
        "#\"mom\"\n",
        "#madam\n",
        "#malayalam\n",
        "#wow\n",
        "#hyderabad\n",
        "#karnataka\n",
        "a = \"mom\"\n",
        "print(a[-1:3:-1])"
      ],
      "metadata": {
        "colab": {
          "base_uri": "https://localhost:8080/"
        },
        "id": "tldwV9_waUoc",
        "outputId": "82dc36b9-d8be-4114-c3db-dea260a25301"
      },
      "execution_count": null,
      "outputs": [
        {
          "output_type": "stream",
          "name": "stdout",
          "text": [
            "\n"
          ]
        }
      ]
    },
    {
      "cell_type": "code",
      "source": [
        "STRING METHODS\n",
        "\n",
        "#what are all the methods applicable on string?\n",
        "#use dir() it will tells us what are all the methods can be applicable for given string\n",
        "#what ois dir()?\n",
        "#it returns what are all the methods applicable on given string\n"
      ],
      "metadata": {
        "id": "Via455PLbyBe"
      },
      "execution_count": null,
      "outputs": []
    },
    {
      "cell_type": "code",
      "source": [
        "#STRING FORMATTING METHOD\n",
        "#it is defined as formatting method can takes an arugments and place it over a place holder{.}\n",
        "#this can be three 3 types"
      ],
      "metadata": {
        "id": "LwATbHAJ69VO"
      },
      "execution_count": null,
      "outputs": []
    },
    {
      "cell_type": "code",
      "source": [
        "a = \"hello wolrd\"\n",
        "#us the dir() to print what are all the methods we can apply on string.\n",
        "print(dir(a))\n",
        "#some of the strings methods\n",
        "#upper()\n",
        "#lower()\n",
        "#title()\n",
        "#swapcase()\n",
        "#capitalize()\n",
        "#replace()    ****imp\n",
        "#title()\n",
        "#sstrip()\n",
        "#estrip()\n",
        "#lstrip()\n",
        "#print(a.upper())\n",
        "print(a.lower())"
      ],
      "metadata": {
        "colab": {
          "base_uri": "https://localhost:8080/"
        },
        "id": "BoolfPOqccFv",
        "outputId": "98807f1c-1fcf-499a-b0ab-f10718997082"
      },
      "execution_count": null,
      "outputs": [
        {
          "output_type": "stream",
          "name": "stdout",
          "text": [
            "['__add__', '__class__', '__contains__', '__delattr__', '__dir__', '__doc__', '__eq__', '__format__', '__ge__', '__getattribute__', '__getitem__', '__getnewargs__', '__gt__', '__hash__', '__init__', '__init_subclass__', '__iter__', '__le__', '__len__', '__lt__', '__mod__', '__mul__', '__ne__', '__new__', '__reduce__', '__reduce_ex__', '__repr__', '__rmod__', '__rmul__', '__setattr__', '__sizeof__', '__str__', '__subclasshook__', 'capitalize', 'casefold', 'center', 'count', 'encode', 'endswith', 'expandtabs', 'find', 'format', 'format_map', 'index', 'isalnum', 'isalpha', 'isascii', 'isdecimal', 'isdigit', 'isidentifier', 'islower', 'isnumeric', 'isprintable', 'isspace', 'istitle', 'isupper', 'join', 'ljust', 'lower', 'lstrip', 'maketrans', 'partition', 'removeprefix', 'removesuffix', 'replace', 'rfind', 'rindex', 'rjust', 'rpartition', 'rsplit', 'rstrip', 'split', 'splitlines', 'startswith', 'strip', 'swapcase', 'title', 'translate', 'upper', 'zfill']\n",
            "hello wolrd\n"
          ]
        }
      ]
    },
    {
      "cell_type": "code",
      "source": [
        "a = \"majeed hello\"\n",
        "print(a.upper())\n",
        "print(a.lower())\n",
        "print(a.capitalize())\n",
        "print(a.title())\n",
        "print(a.replace(\"hello\",\"hai\"))\n",
        "print(a.strip())\n",
        "print(a.lstrip())\n"
      ],
      "metadata": {
        "colab": {
          "base_uri": "https://localhost:8080/"
        },
        "id": "QSFOn9OYeGCQ",
        "outputId": "b8426399-4b86-4907-e1fe-6121f395249b"
      },
      "execution_count": null,
      "outputs": [
        {
          "output_type": "stream",
          "name": "stdout",
          "text": [
            "MAJEED HELLO\n",
            "majeed hello\n",
            "Majeed hello\n",
            "Majeed Hello\n",
            "majeed hai\n",
            "majeed hello\n",
            "majeed hello\n"
          ]
        }
      ]
    },
    {
      "cell_type": "code",
      "source": [
        "a = \"   helloworld  \"\n",
        "print(a.lstrip())\n",
        "print(a.rstrip())\n",
        "print(a.strip())\n"
      ],
      "metadata": {
        "colab": {
          "base_uri": "https://localhost:8080/"
        },
        "id": "-1zlKiV5bm4g",
        "outputId": "096aa855-d40b-453e-eb75-d8b7db12bd6c"
      },
      "execution_count": null,
      "outputs": [
        {
          "output_type": "stream",
          "name": "stdout",
          "text": [
            "helloworld  \n",
            "   helloworld\n",
            "helloworld\n"
          ]
        }
      ]
    },
    {
      "cell_type": "code",
      "source": [
        "a = \"hello good morning\"\n",
        "print(a.upper())\n",
        "print(a.lower())\n",
        "print(a.capitalize())\n",
        "print(a.replace(\"morning\",\"evening\"))\n",
        "print(a.strip())\n",
        "print(a.lstrip())\n"
      ],
      "metadata": {
        "colab": {
          "base_uri": "https://localhost:8080/"
        },
        "id": "3YZWKupqh0SM",
        "outputId": "f146a271-d8eb-45ef-9a10-0541b9031466"
      },
      "execution_count": null,
      "outputs": [
        {
          "output_type": "stream",
          "name": "stdout",
          "text": [
            "HELLO GOOD MORNING\n",
            "hello good morning\n",
            "Hello good morning\n",
            "hello good evening\n",
            "hello good morning\n",
            "hello good morning\n"
          ]
        }
      ]
    },
    {
      "cell_type": "code",
      "source": [
        "print(dir(a))"
      ],
      "metadata": {
        "colab": {
          "base_uri": "https://localhost:8080/"
        },
        "id": "O_OacFjcjZfv",
        "outputId": "9a6af0b4-816d-4714-bb2f-6f9b369d69e3"
      },
      "execution_count": null,
      "outputs": [
        {
          "output_type": "stream",
          "name": "stdout",
          "text": [
            "['__add__', '__class__', '__contains__', '__delattr__', '__dir__', '__doc__', '__eq__', '__format__', '__ge__', '__getattribute__', '__getitem__', '__getnewargs__', '__gt__', '__hash__', '__init__', '__init_subclass__', '__iter__', '__le__', '__len__', '__lt__', '__mod__', '__mul__', '__ne__', '__new__', '__reduce__', '__reduce_ex__', '__repr__', '__rmod__', '__rmul__', '__setattr__', '__sizeof__', '__str__', '__subclasshook__', 'capitalize', 'casefold', 'center', 'count', 'encode', 'endswith', 'expandtabs', 'find', 'format', 'format_map', 'index', 'isalnum', 'isalpha', 'isascii', 'isdecimal', 'isdigit', 'isidentifier', 'islower', 'isnumeric', 'isprintable', 'isspace', 'istitle', 'isupper', 'join', 'ljust', 'lower', 'lstrip', 'maketrans', 'partition', 'removeprefix', 'removesuffix', 'replace', 'rfind', 'rindex', 'rjust', 'rpartition', 'rsplit', 'rstrip', 'split', 'splitlines', 'startswith', 'strip', 'swapcase', 'title', 'translate', 'upper', 'zfill']\n"
          ]
        }
      ]
    },
    {
      "cell_type": "code",
      "source": [
        "print(a.zfill(20))"
      ],
      "metadata": {
        "colab": {
          "base_uri": "https://localhost:8080/"
        },
        "id": "rvW0SdwLktjp",
        "outputId": "1870d6dd-ae40-4375-cd98-9e4994b0f168"
      },
      "execution_count": null,
      "outputs": [
        {
          "output_type": "stream",
          "name": "stdout",
          "text": [
            "00hello good morning\n"
          ]
        }
      ]
    },
    {
      "cell_type": "code",
      "source": [
        "print(a.startswith(\"good\",6,16))"
      ],
      "metadata": {
        "id": "TBzr126wlHlI",
        "colab": {
          "base_uri": "https://localhost:8080/"
        },
        "outputId": "43a4a6be-c3f9-4ca2-b2b2-9681602b4cc9"
      },
      "execution_count": null,
      "outputs": [
        {
          "output_type": "stream",
          "name": "stdout",
          "text": [
            "True\n"
          ]
        }
      ]
    },
    {
      "cell_type": "code",
      "source": [
        "a = \"upcoming great generations are best\"\n",
        "print(a.upper())"
      ],
      "metadata": {
        "colab": {
          "base_uri": "https://localhost:8080/"
        },
        "id": "6Dg9oMILmu1X",
        "outputId": "954958b8-cdac-4332-e027-7de03f664415"
      },
      "execution_count": null,
      "outputs": [
        {
          "output_type": "stream",
          "name": "stdout",
          "text": [
            "UPCOMING GREAT GENERATIONS ARE BEST\n"
          ]
        }
      ]
    },
    {
      "cell_type": "code",
      "source": [
        "print(a.lower())"
      ],
      "metadata": {
        "colab": {
          "base_uri": "https://localhost:8080/"
        },
        "id": "DWSUP6BVpfNT",
        "outputId": "61a7c8e9-091a-4155-82c3-1f83a17144b9"
      },
      "execution_count": null,
      "outputs": [
        {
          "output_type": "stream",
          "name": "stdout",
          "text": [
            "upcoming great generations are best\n"
          ]
        }
      ]
    },
    {
      "cell_type": "code",
      "source": [
        "print(a.split())"
      ],
      "metadata": {
        "colab": {
          "base_uri": "https://localhost:8080/"
        },
        "id": "CImQ5pWSpo9s",
        "outputId": "b6edfd95-65d3-4b2e-f5ec-9997ea7f9e24"
      },
      "execution_count": null,
      "outputs": [
        {
          "output_type": "stream",
          "name": "stdout",
          "text": [
            "['upcoming', 'great', 'generations', 'are', 'best']\n"
          ]
        }
      ]
    },
    {
      "cell_type": "code",
      "source": [],
      "metadata": {
        "colab": {
          "base_uri": "https://localhost:8080/",
          "height": 147
        },
        "id": "JBQwUX6Dp3-v",
        "outputId": "0899b00f-333c-437c-97d2-c7917e8c9525"
      },
      "execution_count": null,
      "outputs": [
        {
          "output_type": "error",
          "ename": "AttributeError",
          "evalue": "'str' object has no attribute 'suffix'",
          "traceback": [
            "\u001b[0;31m---------------------------------------------------------------------------\u001b[0m",
            "\u001b[0;31mAttributeError\u001b[0m                            Traceback (most recent call last)",
            "\u001b[0;32m<ipython-input-91-05c991ea5aa0>\u001b[0m in \u001b[0;36m<cell line: 1>\u001b[0;34m()\u001b[0m\n\u001b[0;32m----> 1\u001b[0;31m \u001b[0mprint\u001b[0m\u001b[0;34m(\u001b[0m\u001b[0ma\u001b[0m\u001b[0;34m.\u001b[0m\u001b[0msuffix\u001b[0m\u001b[0;34m(\u001b[0m\u001b[0;34m)\u001b[0m\u001b[0;34m)\u001b[0m\u001b[0;34m\u001b[0m\u001b[0;34m\u001b[0m\u001b[0m\n\u001b[0m",
            "\u001b[0;31mAttributeError\u001b[0m: 'str' object has no attribute 'suffix'"
          ]
        }
      ]
    },
    {
      "cell_type": "code",
      "source": [
        "mali = 5\n",
        "print(\"mali\"+ \"is\" + str(mali))"
      ],
      "metadata": {
        "id": "x9Ov3MV8qo9S",
        "colab": {
          "base_uri": "https://localhost:8080/"
        },
        "outputId": "d6f5a7ae-596d-4766-ef3e-05df04720938"
      },
      "execution_count": null,
      "outputs": [
        {
          "output_type": "stream",
          "name": "stdout",
          "text": [
            "maliis5\n"
          ]
        }
      ]
    },
    {
      "cell_type": "code",
      "source": [
        "#STRING FORMAT METHODS\n",
        "#what is concatination?\n",
        "#addition of strings is known as concatination\n",
        "a = \"hello\"  +  \"universe\"\n",
        "print(a)"
      ],
      "metadata": {
        "colab": {
          "base_uri": "https://localhost:8080/"
        },
        "id": "ZebzVP_zRhCp",
        "outputId": "55fabb6f-7046-4ad2-956e-fde63683a2f9"
      },
      "execution_count": null,
      "outputs": [
        {
          "output_type": "stream",
          "name": "stdout",
          "text": [
            "hellouniverse\n"
          ]
        }
      ]
    },
    {
      "cell_type": "code",
      "source": [
        "#1. give the space at the end of string.\n",
        "#2. we can give the space at the postion of the last string\n",
        "a = \"hello\" + \"universe\"\n",
        "#3rd adding space in between the string.\n",
        "a = \"hello\" +\" \"+ \"universe\"\n",
        "print(a)"
      ],
      "metadata": {
        "colab": {
          "base_uri": "https://localhost:8080/"
        },
        "id": "QOx2wvNwVNRt",
        "outputId": "7519dd90-3e81-4220-fe71-a789a7688914"
      },
      "execution_count": null,
      "outputs": [
        {
          "output_type": "stream",
          "name": "stdout",
          "text": [
            "hello universe\n"
          ]
        }
      ]
    },
    {
      "cell_type": "code",
      "source": [
        "#print \"hello@universe\"?\n",
        "a = \"hello@universe\"\n",
        "print(a)"
      ],
      "metadata": {
        "colab": {
          "base_uri": "https://localhost:8080/"
        },
        "id": "JIStvudgYJj2",
        "outputId": "77b43d16-e43c-45cb-e193-7f61b53640bd"
      },
      "execution_count": null,
      "outputs": [
        {
          "output_type": "stream",
          "name": "stdout",
          "text": [
            "hello@universe\n"
          ]
        }
      ]
    },
    {
      "cell_type": "code",
      "source": [
        "a = \"hello\" + \"@\" + \"universe\"\n",
        "print(a)"
      ],
      "metadata": {
        "colab": {
          "base_uri": "https://localhost:8080/"
        },
        "id": "ZuDhYlO5ZkaZ",
        "outputId": "44647079-310b-4b25-cde7-93c618679899"
      },
      "execution_count": null,
      "outputs": [
        {
          "output_type": "stream",
          "name": "stdout",
          "text": [
            "hello@universe\n"
          ]
        }
      ]
    },
    {
      "cell_type": "code",
      "source": [
        "STRING CONCATINATION"
      ],
      "metadata": {
        "id": "7m5w6kWC9i08"
      },
      "execution_count": null,
      "outputs": []
    },
    {
      "cell_type": "markdown",
      "source": [],
      "metadata": {
        "id": "6In11QWb9iou"
      }
    },
    {
      "cell_type": "code",
      "source": [
        "#take a two varaiable and print \"my age is 10\"?\n",
        "a = \"my age is\"\n",
        "b = \"10\"\n",
        "print(type(b))\n",
        "print(a + b)"
      ],
      "metadata": {
        "colab": {
          "base_uri": "https://localhost:8080/"
        },
        "id": "88_AgQnGZ6Pj",
        "outputId": "13964000-68ca-4824-d703-524e0a8bb9ce"
      },
      "execution_count": null,
      "outputs": [
        {
          "output_type": "stream",
          "name": "stdout",
          "text": [
            "<class 'str'>\n",
            "my age is10\n"
          ]
        }
      ]
    },
    {
      "cell_type": "code",
      "source": [
        "#1st method of format is giving. format() in print statment{this is called as print format}\n",
        "# i want to give an arguments ayt null placeholders\n",
        "\n",
        "a = \"my age is {}\"\n",
        "b = 10\n",
        "print(a.format(b))"
      ],
      "metadata": {
        "colab": {
          "base_uri": "https://localhost:8080/"
        },
        "id": "4GqOgCpWa2Cz",
        "outputId": "ce39ed80-6151-4ff5-de76-3b1bbad957c8"
      },
      "execution_count": null,
      "outputs": [
        {
          "output_type": "stream",
          "name": "stdout",
          "text": [
            "my age is 10\n"
          ]
        }
      ]
    },
    {
      "cell_type": "code",
      "source": [
        "#2nd method is. this is called as string format  ..using at the end of the string\n",
        "a = \"my age is {}\".format(b)\n",
        "b = 10\n",
        "print(a)\n",
        "a = 10\n",
        "b = \"my age is {}\".format(a)\n",
        "print(b)"
      ],
      "metadata": {
        "colab": {
          "base_uri": "https://localhost:8080/"
        },
        "id": "M5ivARA_bxcy",
        "outputId": "2631c485-03a6-4077-b991-59c4af81e7ff"
      },
      "execution_count": null,
      "outputs": [
        {
          "output_type": "stream",
          "name": "stdout",
          "text": [
            "my age is 10\n",
            "my age is 10\n"
          ]
        }
      ]
    },
    {
      "cell_type": "code",
      "source": [
        "a = 10\n",
        "b = \"my age is {}\".format(a)\n",
        "print(b)"
      ],
      "metadata": {
        "colab": {
          "base_uri": "https://localhost:8080/"
        },
        "id": "VzrGSSYSchlA",
        "outputId": "404c2d40-aa26-42d4-ffd8-acd00bae4071"
      },
      "execution_count": null,
      "outputs": [
        {
          "output_type": "stream",
          "name": "stdout",
          "text": [
            "my age is 10\n"
          ]
        }
      ]
    },
    {
      "cell_type": "code",
      "source": [
        "a = \"siddartha age is {}\".format(b)\n",
        "b = 21\n",
        "print(b)"
      ],
      "metadata": {
        "colab": {
          "base_uri": "https://localhost:8080/"
        },
        "id": "67qnWCM8d9JN",
        "outputId": "b1692d0c-df2d-4a56-ada5-93d7be71e760"
      },
      "execution_count": null,
      "outputs": [
        {
          "output_type": "stream",
          "name": "stdout",
          "text": [
            "21\n"
          ]
        }
      ]
    },
    {
      "cell_type": "code",
      "source": [
        "#3rd. method f' string  format' method\n",
        "age = 10\n",
        "print(f\"my age is {age } old\")"
      ],
      "metadata": {
        "colab": {
          "base_uri": "https://localhost:8080/"
        },
        "id": "h_3N76OFdw3v",
        "outputId": "061383ba-3331-4422-d3de-c22586f4e3a4"
      },
      "execution_count": null,
      "outputs": [
        {
          "output_type": "stream",
          "name": "stdout",
          "text": [
            "my age is 10 old\n"
          ]
        }
      ]
    },
    {
      "cell_type": "code",
      "source": [
        "\"your order has been placed for product A with price of 99.9/- and order quatnity is 10 is confirmed.\"\n",
        "item_name = \"price A\"\n",
        "price = 99.9\n",
        "quantity = 10\n",
        "print(f' your order has been placed successfuly for {item_name} with a price of {price}/- and order of quantity.{quantity} is confirmed.')"
      ],
      "metadata": {
        "colab": {
          "base_uri": "https://localhost:8080/"
        },
        "id": "_Jn7faOTe6oi",
        "outputId": "1bf95ab6-e5a9-4f3a-d57a-cf67ddb938b0"
      },
      "execution_count": null,
      "outputs": [
        {
          "output_type": "stream",
          "name": "stdout",
          "text": [
            " your order has been placed successfuly for price A with a price of 99.9/- and order of quantity.10 is confirmed.\n"
          ]
        }
      ]
    },
    {
      "cell_type": "code",
      "source": [
        "item_name = input(\"enter the item name:\")\n",
        "price = int(input(\"price of the product: \" ))\n",
        "quantity = int(input(\"quantity of the product\"))\n",
        "print(f\"ure order has been placed successfuly for {item_name} with the total price of {price*quantity} has been confirmed\")"
      ],
      "metadata": {
        "colab": {
          "base_uri": "https://localhost:8080/",
          "height": 238
        },
        "id": "x1HbCkIXjguE",
        "outputId": "38ca33e2-af3c-4f11-d0d5-eecd5ae23767"
      },
      "execution_count": null,
      "outputs": [
        {
          "name": "stdout",
          "output_type": "stream",
          "text": [
            "enter the item name:bata\n",
            "price of the product: 500\n",
            "quantity of the product40\n"
          ]
        },
        {
          "output_type": "error",
          "ename": "TypeError",
          "evalue": "'str' object is not callable",
          "traceback": [
            "\u001b[0;31m---------------------------------------------------------------------------\u001b[0m",
            "\u001b[0;31mTypeError\u001b[0m                                 Traceback (most recent call last)",
            "\u001b[0;32m<ipython-input-42-0050a2ac5ab5>\u001b[0m in \u001b[0;36m<cell line: 4>\u001b[0;34m()\u001b[0m\n\u001b[1;32m      2\u001b[0m \u001b[0mprice\u001b[0m \u001b[0;34m=\u001b[0m \u001b[0mint\u001b[0m\u001b[0;34m(\u001b[0m\u001b[0minput\u001b[0m\u001b[0;34m(\u001b[0m\u001b[0;34m\"price of the product: \"\u001b[0m \u001b[0;34m)\u001b[0m\u001b[0;34m)\u001b[0m\u001b[0;34m\u001b[0m\u001b[0;34m\u001b[0m\u001b[0m\n\u001b[1;32m      3\u001b[0m \u001b[0mquantity\u001b[0m \u001b[0;34m=\u001b[0m \u001b[0mint\u001b[0m\u001b[0;34m(\u001b[0m\u001b[0minput\u001b[0m\u001b[0;34m(\u001b[0m\u001b[0;34m\"quantity of the product\"\u001b[0m\u001b[0;34m)\u001b[0m\u001b[0;34m)\u001b[0m\u001b[0;34m\u001b[0m\u001b[0;34m\u001b[0m\u001b[0m\n\u001b[0;32m----> 4\u001b[0;31m \u001b[0mprint\u001b[0m\u001b[0;34m(\u001b[0m\u001b[0;34mf\"ure order has been placed successfuly for {item_name} with the total price of {price*quantity} has been confirmed\"\u001b[0m\u001b[0;34m)\u001b[0m\u001b[0;34m\u001b[0m\u001b[0;34m\u001b[0m\u001b[0m\n\u001b[0m",
            "\u001b[0;31mTypeError\u001b[0m: 'str' object is not callable"
          ]
        }
      ]
    },
    {
      "cell_type": "code",
      "source": [
        "ESCAPE CHARACTERS\n",
        "#what is a escape characters?\n",
        "#if you want to print illegal characters ina string we have to use escape characters\n",
        "#----> use backword slash \"\\\" infront of illegal characters next at the end also use \"\\\" before illlegal characaters\n",
        "a = \"Dwyan \\\" the Rock\\\" johnson.\"\n",
        "print(a)"
      ],
      "metadata": {
        "id": "MTSFM7UyD-_y"
      },
      "execution_count": null,
      "outputs": []
    },
    {
      "cell_type": "code",
      "source": [],
      "metadata": {
        "id": "Z3NnfJ0vD-z3"
      },
      "execution_count": null,
      "outputs": []
    },
    {
      "cell_type": "code",
      "source": [
        "#CODITIONAL STATMENTS"
      ],
      "metadata": {
        "id": "ZvHSrY_Zl7XN"
      },
      "execution_count": null,
      "outputs": []
    },
    {
      "cell_type": "code",
      "source": [
        "#this are also known as control structures.\n",
        "#what are all comparision operators in python.\n",
        "#comparision operators is also called as relational statments\n",
        "#equals----> ==\n",
        "#not equals---> !=\n",
        "#greater than--->> >\n",
        "#less than---> <\n",
        "#greater than or equal to ---> >=\n",
        "#less than or equal to----> <=\n",
        "\n",
        "#what are all conditional statments do we have?\n",
        "#if----elif---else\n"
      ],
      "metadata": {
        "id": "jK2XejPcth4t"
      },
      "execution_count": null,
      "outputs": []
    },
    {
      "cell_type": "code",
      "source": [
        "#write a prograam to print weather thier students is pass or fail\n",
        "marks = float(input(\"enter the marks\"))\n",
        "total_marks = 100\n",
        "#condtion is morethan or equal to 35 marks student pass.\n",
        "if marks >= 35:\n",
        "  print(\"congrulations\")\n",
        "  print(f'you have passed with {marks} marks')\n",
        "else:\n",
        " print(\"better luck next time\")\n"
      ],
      "metadata": {
        "colab": {
          "base_uri": "https://localhost:8080/"
        },
        "id": "fNki7P9Hwoct",
        "outputId": "e9055b93-b206-44cf-dd15-4280815f5244"
      },
      "execution_count": null,
      "outputs": [
        {
          "output_type": "stream",
          "name": "stdout",
          "text": [
            "enter the marks45\n",
            "congrulations\n",
            "you have passed with 45.0 marks\n"
          ]
        }
      ]
    },
    {
      "cell_type": "code",
      "source": [
        "#write a program to print the given number is \"+ve\" ,\"-ve\", or neutrol?\n",
        "A = float(input())\n",
        "if A > 0:\n",
        "  print(\"+ve\")\n",
        "elif A == 0:\n",
        "  print(\"neutral\")\n",
        "else:\n",
        "  print(\"-ve\")\n"
      ],
      "metadata": {
        "colab": {
          "base_uri": "https://localhost:8080/"
        },
        "id": "X1dBsG-YxiDw",
        "outputId": "9d612708-0687-4ffa-9021-deb77e510d00"
      },
      "execution_count": null,
      "outputs": [
        {
          "output_type": "stream",
          "name": "stdout",
          "text": [
            "5\n",
            "+ve\n"
          ]
        }
      ]
    },
    {
      "cell_type": "code",
      "source": [
        "#write a program to cheack the given string is palindrome or not?\n",
        "#Mom\n",
        "#MaDAm\n",
        "#MALalayam\n",
        "#woW\n",
        "#HYDERBAD\n",
        "#KARNATAKA\n",
        "a = input(\"enter the string:\")\n",
        "b = a[::-1]\n",
        "if a.upper() == b.upper():\n",
        "  print(\"palindrome\")\n",
        "else:\n",
        "  print(\"not palindrome\")\n",
        "\n"
      ],
      "metadata": {
        "colab": {
          "base_uri": "https://localhost:8080/"
        },
        "id": "oW7I_-6N1ktK",
        "outputId": "0f9b77aa-f156-4cc4-fd45-c56092a8e95a"
      },
      "execution_count": null,
      "outputs": [
        {
          "output_type": "stream",
          "name": "stdout",
          "text": [
            "enter the string:HYDERABAD\n",
            "not palindrome\n"
          ]
        }
      ]
    },
    {
      "cell_type": "code",
      "source": [
        "print(\"HYDERABAD\"==\"HYDERABAD\")\n"
      ],
      "metadata": {
        "colab": {
          "base_uri": "https://localhost:8080/"
        },
        "id": "NF_VxWtB3Mly",
        "outputId": "cc66982a-051c-422d-c5fb-3d8f0663097b"
      },
      "execution_count": null,
      "outputs": [
        {
          "output_type": "stream",
          "name": "stdout",
          "text": [
            "True\n"
          ]
        }
      ]
    },
    {
      "cell_type": "code",
      "source": [
        "#write a prograam to print weather thier students is pass or fail\n",
        "marks = float(input(\"enter the marks\"))\n",
        "total_marks = 100\n",
        "#condtion is morethan or equal to 35 marks student pass.\n",
        "if marks >= 35:\n",
        "  print(\"congrulations\")\n",
        "  print(f'you have passed with {marks} marks')\n",
        "else:\n",
        " print(\"better luck next time\")\n"
      ],
      "metadata": {
        "colab": {
          "base_uri": "https://localhost:8080/"
        },
        "id": "1qvbnHQF5akj",
        "outputId": "4c021b06-9bbb-4075-e110-43c47457da1f"
      },
      "execution_count": null,
      "outputs": [
        {
          "output_type": "stream",
          "name": "stdout",
          "text": [
            "enter the marks78\n",
            "congrulations\n",
            "you have passed with 78.0 marks\n"
          ]
        }
      ]
    },
    {
      "cell_type": "code",
      "source": [
        "#write a prograam to print weather thier students is pass or fail\n",
        "marks = int(input(\"enter the marks\"))\n",
        "total_marks = 100\n",
        "#condtion is morethan or equal to 35 marks student pass.\n",
        "if marks >= 35:\n",
        "  print(\"congrulations\")\n",
        "  print(f'you have passed with {marks} marks')\n",
        "else:\n",
        " print(\"better luck next time\")\n"
      ],
      "metadata": {
        "colab": {
          "base_uri": "https://localhost:8080/"
        },
        "id": "RdxLyQ188Zq9",
        "outputId": "9287cbec-5ec6-4011-f497-ea747c77d277"
      },
      "execution_count": null,
      "outputs": [
        {
          "output_type": "stream",
          "name": "stdout",
          "text": [
            "enter the marks32\n",
            "better luck next time\n"
          ]
        }
      ]
    },
    {
      "cell_type": "code",
      "source": [
        "LOOPS"
      ],
      "metadata": {
        "id": "X9asBn8O9Jqh"
      },
      "execution_count": null,
      "outputs": []
    },
    {
      "cell_type": "code",
      "source": [
        "#print multiples of 2 in the given collection?\n",
        "#[1,2,3,---[2,4,6,8]\n",
        "a = [1,2,3,4]\n",
        "print(a[0]*2,a[1]*2,a[2]*2,a[3]*4)"
      ],
      "metadata": {
        "colab": {
          "base_uri": "https://localhost:8080/"
        },
        "id": "sAEnR1sg8-dn",
        "outputId": "50e4ac62-edab-4c11-e07f-b0610eaec2bd"
      },
      "execution_count": null,
      "outputs": [
        {
          "output_type": "stream",
          "name": "stdout",
          "text": [
            "2 4 6 16\n"
          ]
        }
      ]
    },
    {
      "cell_type": "code",
      "source": [],
      "metadata": {
        "id": "P6DyeE_A9WSQ"
      },
      "execution_count": null,
      "outputs": []
    },
    {
      "cell_type": "markdown",
      "source": [
        "#why we use loops?"
      ],
      "metadata": {
        "id": "rGAhiX7e_AC_"
      }
    },
    {
      "cell_type": "code",
      "source": [
        "#we use the loops to avoid the duplicate codes.\n",
        "#loops are used to iterate and check condtions over collections.\n",
        "#how many types of codes?\n",
        "# there are two types of codes\n",
        "#dry code ---> d: dont, r:repeat, y:yourself\n",
        "#WET code---> w:write, e:everything t:twice\n",
        "\n",
        "#types of loops\n",
        "#while loop\n",
        "#for loop\n"
      ],
      "metadata": {
        "id": "j2lIdIYt_u2p"
      },
      "execution_count": null,
      "outputs": []
    },
    {
      "cell_type": "code",
      "source": [
        "#WHILE LOOP:\n",
        "#what is while loop?\n",
        "#while loop means it run a set of instructions as long as condiotions remains true.\n",
        "target = 5\n",
        "initial_count = 1\n",
        "while initial_count <= target:\n",
        "  print(\"go up\")\n",
        "  print(\"go down\")\n",
        "  print(\"=====rep completed=====\")\n",
        "  initial_count = initial_count + 2\n"
      ],
      "metadata": {
        "colab": {
          "base_uri": "https://localhost:8080/"
        },
        "id": "zyyI10O9Bn5n",
        "outputId": "8c77f25e-cb66-4d73-e603-a40e4de9f7d3"
      },
      "execution_count": null,
      "outputs": [
        {
          "output_type": "stream",
          "name": "stdout",
          "text": [
            "go up\n",
            "go down\n",
            "=====rep completed=====\n",
            "go up\n",
            "go down\n",
            "=====rep completed=====\n",
            "go up\n",
            "go down\n",
            "=====rep completed=====\n"
          ]
        }
      ]
    },
    {
      "cell_type": "code",
      "source": [
        "#write a program to print 1 to 10 numbers by using while loop?\n",
        "i = 0\n",
        "while i <= 10:\n",
        "  print(i)\n",
        "  i = i + 2\n",
        "  #NOTE: when you use \"condition [i = i + 1] after the print() the output cab be exact range of number\n",
        "  #'''if you are using condtions [i = i + 1] before print statments the output can be increased by 1 with respect to the range of number'''"
      ],
      "metadata": {
        "colab": {
          "base_uri": "https://localhost:8080/"
        },
        "id": "qefydYwAC8li",
        "outputId": "781a4505-9853-4597-9262-f64c79e219ff"
      },
      "execution_count": null,
      "outputs": [
        {
          "output_type": "stream",
          "name": "stdout",
          "text": [
            "0\n",
            "2\n",
            "4\n",
            "6\n",
            "8\n",
            "10\n"
          ]
        }
      ]
    },
    {
      "cell_type": "code",
      "source": [
        "#write a program to run the lift if the user press button 4 then the left has to stop\n",
        "target = int(input())\n",
        "g = 0\n",
        "while g <= target:\n",
        "  print(\"lift is {g} floor\")\n",
        "  print(\"====================\")\n",
        "  g = g + 1"
      ],
      "metadata": {
        "colab": {
          "base_uri": "https://localhost:8080/"
        },
        "id": "5Qxto08lHRXz",
        "outputId": "d38f42f8-bc7d-4b6e-b278-2f44d28afb55"
      },
      "execution_count": null,
      "outputs": [
        {
          "output_type": "stream",
          "name": "stdout",
          "text": [
            "4\n",
            "lift is {g} floor\n",
            "====================\n",
            "lift is {g} floor\n",
            "====================\n",
            "lift is {g} floor\n",
            "====================\n",
            "lift is {g} floor\n",
            "====================\n",
            "lift is {g} floor\n",
            "====================\n"
          ]
        }
      ]
    },
    {
      "cell_type": "code",
      "source": [
        "a = 45\n",
        "#i will check a is greater than 10 or not\n",
        "if a > 10:\n",
        "  print(\"a is greater than 10\")\n",
        "  if a > 20:\n",
        "    print(\"a is greater than 20\")\n",
        "    if a > 30:\n",
        "      print(\"a is greater than 30\")\n",
        "      if a > 40:\n",
        "        print(\"a is greater than 40\")\n",
        "        if a > 50:\n",
        "          print(\"a is greater than 50\")\n",
        "        else:\n",
        "            print(\"a is less than 50\")\n",
        "      else:\n",
        "          print(\"a is less than 40\")\n",
        "    else:\n",
        "        print(\"a is less than 30\")\n",
        "  else:\n",
        "      print(\"a is less than 20\")\n",
        "else:\n",
        "    print(\"a is less than 10\")\n"
      ],
      "metadata": {
        "id": "R0qtwc2TJWD9",
        "colab": {
          "base_uri": "https://localhost:8080/"
        },
        "outputId": "5f323126-60e2-4c4a-8e96-55e395a2f439"
      },
      "execution_count": null,
      "outputs": [
        {
          "output_type": "stream",
          "name": "stdout",
          "text": [
            "a is greater than 10\n",
            "a is greater than 20\n",
            "a is greater than 30\n",
            "a is greater than 40\n",
            "a is less than 50\n"
          ]
        }
      ]
    },
    {
      "cell_type": "code",
      "source": [
        "a = \"hello world\"\n",
        "print(a)\n"
      ],
      "metadata": {
        "id": "_H2MIZmQA4IG"
      },
      "execution_count": null,
      "outputs": []
    },
    {
      "cell_type": "code",
      "source": [],
      "metadata": {
        "id": "8nekzIfcdlni"
      },
      "execution_count": null,
      "outputs": []
    },
    {
      "cell_type": "code",
      "source": [],
      "metadata": {
        "id": "XjEBN1otkbQ0"
      },
      "execution_count": null,
      "outputs": []
    }
  ]
}